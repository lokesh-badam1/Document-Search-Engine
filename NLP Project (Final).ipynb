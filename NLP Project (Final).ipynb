{
 "cells": [
  {
   "cell_type": "markdown",
   "id": "c9cf80ac",
   "metadata": {},
   "source": [
    "# Files to Dataframe"
   ]
  },
  {
   "cell_type": "code",
   "execution_count": null,
   "id": "6065f910",
   "metadata": {},
   "outputs": [],
   "source": [
    "import os\n",
    "import pandas as pd"
   ]
  },
  {
   "cell_type": "code",
   "execution_count": null,
   "id": "3bc5e787",
   "metadata": {},
   "outputs": [],
   "source": [
    "file_names = os.listdir( r'stories')"
   ]
  },
  {
   "cell_type": "code",
   "execution_count": null,
   "id": "bf77180f",
   "metadata": {},
   "outputs": [],
   "source": [
    "fd = {}\n",
    "for f in file_names:\n",
    "        with open(r'stories' '\\\\' + f ,\"r\",encoding=\"latin-1\") as txtfile:\n",
    "            fd[f] = txtfile.read().strip()\n"
   ]
  },
  {
   "cell_type": "code",
   "execution_count": 4,
   "id": "23975291",
   "metadata": {},
   "outputs": [],
   "source": [
    "file_data = (pd.DataFrame.from_dict(fd,orient='index')).reset_index().rename(index=str,columns={'index':'file_name',0:'text'})"
   ]
  },
  {
   "cell_type": "code",
   "execution_count": 5,
   "id": "33c8d1d3",
   "metadata": {},
   "outputs": [
    {
     "data": {
      "text/html": [
       "<div>\n",
       "<style scoped>\n",
       "    .dataframe tbody tr th:only-of-type {\n",
       "        vertical-align: middle;\n",
       "    }\n",
       "\n",
       "    .dataframe tbody tr th {\n",
       "        vertical-align: top;\n",
       "    }\n",
       "\n",
       "    .dataframe thead th {\n",
       "        text-align: right;\n",
       "    }\n",
       "</style>\n",
       "<table border=\"1\" class=\"dataframe\">\n",
       "  <thead>\n",
       "    <tr style=\"text-align: right;\">\n",
       "      <th></th>\n",
       "      <th>file_name</th>\n",
       "      <th>text</th>\n",
       "    </tr>\n",
       "  </thead>\n",
       "  <tbody>\n",
       "    <tr>\n",
       "      <th>0</th>\n",
       "      <td>100west.txt</td>\n",
       "      <td>THIS IS A SHAREWARE TRIAL PROJECT\\n           ...</td>\n",
       "    </tr>\n",
       "    <tr>\n",
       "      <th>1</th>\n",
       "      <td>13chil.txt</td>\n",
       "      <td>FOR CHILDREN:\\n\\n                             ...</td>\n",
       "    </tr>\n",
       "    <tr>\n",
       "      <th>2</th>\n",
       "      <td>14.lws</td>\n",
       "      <td>----------------------------------------------...</td>\n",
       "    </tr>\n",
       "    <tr>\n",
       "      <th>3</th>\n",
       "      <td>16.lws</td>\n",
       "      <td>----------------------------------------------...</td>\n",
       "    </tr>\n",
       "    <tr>\n",
       "      <th>4</th>\n",
       "      <td>17.lws</td>\n",
       "      <td>--------------------------------------------\\n...</td>\n",
       "    </tr>\n",
       "  </tbody>\n",
       "</table>\n",
       "</div>"
      ],
      "text/plain": [
       "     file_name                                               text\n",
       "0  100west.txt  THIS IS A SHAREWARE TRIAL PROJECT\\n           ...\n",
       "1   13chil.txt  FOR CHILDREN:\\n\\n                             ...\n",
       "2       14.lws  ----------------------------------------------...\n",
       "3       16.lws  ----------------------------------------------...\n",
       "4       17.lws  --------------------------------------------\\n..."
      ]
     },
     "execution_count": 5,
     "metadata": {},
     "output_type": "execute_result"
    }
   ],
   "source": [
    "file_data.head()"
   ]
  },
  {
   "cell_type": "markdown",
   "id": "da14bcf9",
   "metadata": {},
   "source": [
    "# Data Cleaning "
   ]
  },
  {
   "cell_type": "code",
   "execution_count": 6,
   "id": "c00b5245",
   "metadata": {},
   "outputs": [],
   "source": [
    "temp = file_data['text']"
   ]
  },
  {
   "cell_type": "code",
   "execution_count": 7,
   "id": "50a2979f",
   "metadata": {},
   "outputs": [],
   "source": [
    "import re\n",
    "import nltk\n",
    "import string\n",
    "from nltk.tokenize import word_tokenize\n",
    "from nltk.corpus import stopwords\n",
    "from nltk.stem.porter import PorterStemmer"
   ]
  },
  {
   "cell_type": "code",
   "execution_count": 8,
   "id": "5fe5cbdc",
   "metadata": {},
   "outputs": [],
   "source": [
    "def clean(list):\n",
    "    newlist =[]\n",
    "    for text in list:\n",
    "        text = text.lower()\n",
    "        text = re.sub(r\"[;:\\\"~`!@#$%^&*(){}<>+=_-]\",\"\",text)\n",
    "        text = re.sub(r'http[s]://(?:[a-zA-Z]|[0-9]|[!@$&+.*\\(\\)]|(?:%[0-9a-fA-F][0-9a-fA-f]))+',\"\",text)\n",
    "        text = re.sub(r\"[\\n]\",\"\",text)\n",
    "        text = re.sub(r\"[\\t]\",\"\",text)\n",
    "        text = re.sub(r\"[.,]\",\" \",text)\n",
    "        tokens = word_tokenize(text)\n",
    "        tokens = [token for token in tokens if token.isalpha()]\n",
    "        stop_words = set(stopwords.words(\"english\"))\n",
    "        PS = PorterStemmer()\n",
    "        tokens = [PS.stem(token) for token in tokens if not token in stop_words]\n",
    "        tokens = \" \".join(tokens)\n",
    "        newlist.append(tokens)\n",
    "    return newlist\n",
    "        "
   ]
  },
  {
   "cell_type": "code",
   "execution_count": 9,
   "id": "e90fdb45",
   "metadata": {},
   "outputs": [],
   "source": [
    "tt = clean(temp) "
   ]
  },
  {
   "cell_type": "code",
   "execution_count": 10,
   "id": "f76dc9aa",
   "metadata": {},
   "outputs": [],
   "source": [
    "file_data = file_data.assign(clean_text = tt)"
   ]
  },
  {
   "cell_type": "code",
   "execution_count": 11,
   "id": "bb1d06e0",
   "metadata": {},
   "outputs": [
    {
     "data": {
      "text/html": [
       "<div>\n",
       "<style scoped>\n",
       "    .dataframe tbody tr th:only-of-type {\n",
       "        vertical-align: middle;\n",
       "    }\n",
       "\n",
       "    .dataframe tbody tr th {\n",
       "        vertical-align: top;\n",
       "    }\n",
       "\n",
       "    .dataframe thead th {\n",
       "        text-align: right;\n",
       "    }\n",
       "</style>\n",
       "<table border=\"1\" class=\"dataframe\">\n",
       "  <thead>\n",
       "    <tr style=\"text-align: right;\">\n",
       "      <th></th>\n",
       "      <th>file_name</th>\n",
       "      <th>text</th>\n",
       "      <th>clean_text</th>\n",
       "    </tr>\n",
       "  </thead>\n",
       "  <tbody>\n",
       "    <tr>\n",
       "      <th>0</th>\n",
       "      <td>100west.txt</td>\n",
       "      <td>THIS IS A SHAREWARE TRIAL PROJECT\\n           ...</td>\n",
       "      <td>sharewar trial project freewar need support co...</td>\n",
       "    </tr>\n",
       "    <tr>\n",
       "      <th>1</th>\n",
       "      <td>13chil.txt</td>\n",
       "      <td>FOR CHILDREN:\\n\\n                             ...</td>\n",
       "      <td>children sli fox mr rabbit sat front porch roc...</td>\n",
       "    </tr>\n",
       "    <tr>\n",
       "      <th>2</th>\n",
       "      <td>14.lws</td>\n",
       "      <td>----------------------------------------------...</td>\n",
       "      <td>adventur lone wolf scientifican electron syndi...</td>\n",
       "    </tr>\n",
       "    <tr>\n",
       "      <th>3</th>\n",
       "      <td>16.lws</td>\n",
       "      <td>----------------------------------------------...</td>\n",
       "      <td>adventur lone wolf scientifican electron syndi...</td>\n",
       "    </tr>\n",
       "    <tr>\n",
       "      <th>4</th>\n",
       "      <td>17.lws</td>\n",
       "      <td>--------------------------------------------\\n...</td>\n",
       "      <td>adventur lone wolf scientificth adventur lone ...</td>\n",
       "    </tr>\n",
       "  </tbody>\n",
       "</table>\n",
       "</div>"
      ],
      "text/plain": [
       "     file_name                                               text  \\\n",
       "0  100west.txt  THIS IS A SHAREWARE TRIAL PROJECT\\n           ...   \n",
       "1   13chil.txt  FOR CHILDREN:\\n\\n                             ...   \n",
       "2       14.lws  ----------------------------------------------...   \n",
       "3       16.lws  ----------------------------------------------...   \n",
       "4       17.lws  --------------------------------------------\\n...   \n",
       "\n",
       "                                          clean_text  \n",
       "0  sharewar trial project freewar need support co...  \n",
       "1  children sli fox mr rabbit sat front porch roc...  \n",
       "2  adventur lone wolf scientifican electron syndi...  \n",
       "3  adventur lone wolf scientifican electron syndi...  \n",
       "4  adventur lone wolf scientificth adventur lone ...  "
      ]
     },
     "execution_count": 11,
     "metadata": {},
     "output_type": "execute_result"
    }
   ],
   "source": [
    "file_data.head()"
   ]
  },
  {
   "cell_type": "markdown",
   "id": "36ea7b28",
   "metadata": {},
   "source": [
    "# Data Processing"
   ]
  },
  {
   "cell_type": "code",
   "execution_count": 12,
   "id": "99403b62",
   "metadata": {},
   "outputs": [],
   "source": [
    "vocab = set()\n",
    "for doc in tt:\n",
    "    vocab.update(doc.split())"
   ]
  },
  {
   "cell_type": "code",
   "execution_count": 13,
   "id": "0d341693",
   "metadata": {},
   "outputs": [
    {
     "data": {
      "text/plain": [
       "92060"
      ]
     },
     "execution_count": 13,
     "metadata": {},
     "output_type": "execute_result"
    }
   ],
   "source": [
    "len(vocab)"
   ]
  },
  {
   "cell_type": "code",
   "execution_count": 14,
   "id": "9532732e",
   "metadata": {},
   "outputs": [],
   "source": [
    "from sklearn.feature_extraction.text import TfidfVectorizer\n",
    "tfidf = TfidfVectorizer(vocabulary = vocab)\n",
    "X = tfidf.fit_transform(tt)"
   ]
  },
  {
   "cell_type": "code",
   "execution_count": 15,
   "id": "76a470a7",
   "metadata": {},
   "outputs": [],
   "source": [
    "import numpy as np"
   ]
  },
  {
   "cell_type": "code",
   "execution_count": 16,
   "id": "9b2eb565",
   "metadata": {},
   "outputs": [
    {
     "data": {
      "text/plain": [
       "(453, 92060)"
      ]
     },
     "execution_count": 16,
     "metadata": {},
     "output_type": "execute_result"
    }
   ],
   "source": [
    "np.shape(X)"
   ]
  },
  {
   "cell_type": "code",
   "execution_count": 17,
   "id": "ce0de13b",
   "metadata": {},
   "outputs": [],
   "source": [
    "def cosine_sim(a,b):\n",
    "    cs = np.dot(a,b)/(np.linalg.norm(a)*np.linalg.norm(b))\n",
    "    return cs"
   ]
  },
  {
   "cell_type": "code",
   "execution_count": 18,
   "id": "efe19f3a",
   "metadata": {},
   "outputs": [],
   "source": [
    "def cosine_similarity(k,query):\n",
    "    query = [query]\n",
    "    p = tfidf.fit_transform(query).toarray()\n",
    "    cosines=[]\n",
    "    q = X.A\n",
    "    for r in range(len(X.A)):        \n",
    "        c = cosine_sim(p,X.A[r])\n",
    "        cosines.append(c)\n",
    "        \n",
    "    return cosines"
   ]
  },
  {
   "cell_type": "markdown",
   "id": "59c948e7",
   "metadata": {},
   "source": [
    "# Implementaion and Testing"
   ]
  },
  {
   "cell_type": "code",
   "execution_count": 19,
   "id": "bb04beec",
   "metadata": {},
   "outputs": [],
   "source": [
    "o = cosine_similarity(10,'overton was evidently considerably excited when he sent it and somewhat incoherent in consequence')"
   ]
  },
  {
   "cell_type": "code",
   "execution_count": 20,
   "id": "1caa71a4",
   "metadata": {},
   "outputs": [],
   "source": [
    "fc = file_data.copy()"
   ]
  },
  {
   "cell_type": "code",
   "execution_count": 21,
   "id": "d5ae2032",
   "metadata": {},
   "outputs": [],
   "source": [
    "fc = fc.assign(cs = o)"
   ]
  },
  {
   "cell_type": "code",
   "execution_count": 22,
   "id": "f0d70a52",
   "metadata": {},
   "outputs": [
    {
     "data": {
      "text/html": [
       "<div>\n",
       "<style scoped>\n",
       "    .dataframe tbody tr th:only-of-type {\n",
       "        vertical-align: middle;\n",
       "    }\n",
       "\n",
       "    .dataframe tbody tr th {\n",
       "        vertical-align: top;\n",
       "    }\n",
       "\n",
       "    .dataframe thead th {\n",
       "        text-align: right;\n",
       "    }\n",
       "</style>\n",
       "<table border=\"1\" class=\"dataframe\">\n",
       "  <thead>\n",
       "    <tr style=\"text-align: right;\">\n",
       "      <th></th>\n",
       "      <th>file_name</th>\n",
       "      <th>text</th>\n",
       "      <th>clean_text</th>\n",
       "      <th>cs</th>\n",
       "    </tr>\n",
       "  </thead>\n",
       "  <tbody>\n",
       "    <tr>\n",
       "      <th>285</th>\n",
       "      <td>missing.txt</td>\n",
       "      <td>:.:.:.:.:.:.:.:.:.:.:.:.:.:.:.:.:.:.:.:.:.:.:....</td>\n",
       "      <td>earth dreamland bb text file junki rpgnet gm f...</td>\n",
       "      <td>[0.096540190456066]</td>\n",
       "    </tr>\n",
       "    <tr>\n",
       "      <th>229</th>\n",
       "      <td>home.fil</td>\n",
       "      <td>The Following story is by Francis W. Porretto\\...</td>\n",
       "      <td>follow stori franci w porrettohors feather bbs...</td>\n",
       "      <td>[0.025534321287683476]</td>\n",
       "    </tr>\n",
       "    <tr>\n",
       "      <th>17</th>\n",
       "      <td>7oldsamr.txt</td>\n",
       "      <td>THE SEVEN OLD SAMURAI\\n\\n   Once upon a time, ...</td>\n",
       "      <td>seven old samurai upon time far japan band fie...</td>\n",
       "      <td>[0.024260216144445797]</td>\n",
       "    </tr>\n",
       "    <tr>\n",
       "      <th>149</th>\n",
       "      <td>empsjowk.txt</td>\n",
       "      <td>THE WMPRESS JOWKA\\n\\n   Once upon a time... an...</td>\n",
       "      <td>wmpress jowka upon time empress live japan you...</td>\n",
       "      <td>[0.022880067408350382]</td>\n",
       "    </tr>\n",
       "    <tr>\n",
       "      <th>204</th>\n",
       "      <td>gloves.txt</td>\n",
       "      <td>A MISMATCHED PAIR OF GLOVES\\n\\n\\n     A young ...</td>\n",
       "      <td>mismatch pair glove young man wish purchas pre...</td>\n",
       "      <td>[0.021406745907884286]</td>\n",
       "    </tr>\n",
       "    <tr>\n",
       "      <th>51</th>\n",
       "      <td>bern</td>\n",
       "      <td>THE ADVENTURES OF BERT AND BERNECE\\n  by Franc...</td>\n",
       "      <td>adventur bert bernec franci u kaltenbaugh midt...</td>\n",
       "      <td>[0.016282922367626365]</td>\n",
       "    </tr>\n",
       "    <tr>\n",
       "      <th>144</th>\n",
       "      <td>dwar</td>\n",
       "      <td>DWARF\\n  by Jeroen van Drie \\n\\n  I take walki...</td>\n",
       "      <td>dwarf jeroen van drie take walk forest much wa...</td>\n",
       "      <td>[0.01607642646958248]</td>\n",
       "    </tr>\n",
       "    <tr>\n",
       "      <th>166</th>\n",
       "      <td>fea3</td>\n",
       "      <td>Survey Results\\nCopyright (c) 1994, Joe DeRoue...</td>\n",
       "      <td>survey resultscopyright c joe derouenal right ...</td>\n",
       "      <td>[0.015222437237950852]</td>\n",
       "    </tr>\n",
       "    <tr>\n",
       "      <th>377</th>\n",
       "      <td>shrdfarm.txt</td>\n",
       "      <td>A SHREWD FARMER'S STORY\\n\\n   Once upon a time...</td>\n",
       "      <td>shrewd farmer stori upon time live farmer work...</td>\n",
       "      <td>[0.014771046935003493]</td>\n",
       "    </tr>\n",
       "    <tr>\n",
       "      <th>392</th>\n",
       "      <td>spectacl.poe</td>\n",
       "      <td>The Spectacles\\n\\n     Many years ago, it was ...</td>\n",
       "      <td>spectacl mani year ago fashion ridicul idea fi...</td>\n",
       "      <td>[0.014152078878044871]</td>\n",
       "    </tr>\n",
       "  </tbody>\n",
       "</table>\n",
       "</div>"
      ],
      "text/plain": [
       "        file_name                                               text  \\\n",
       "285   missing.txt  :.:.:.:.:.:.:.:.:.:.:.:.:.:.:.:.:.:.:.:.:.:.:....   \n",
       "229      home.fil  The Following story is by Francis W. Porretto\\...   \n",
       "17   7oldsamr.txt  THE SEVEN OLD SAMURAI\\n\\n   Once upon a time, ...   \n",
       "149  empsjowk.txt  THE WMPRESS JOWKA\\n\\n   Once upon a time... an...   \n",
       "204    gloves.txt  A MISMATCHED PAIR OF GLOVES\\n\\n\\n     A young ...   \n",
       "51           bern  THE ADVENTURES OF BERT AND BERNECE\\n  by Franc...   \n",
       "144          dwar  DWARF\\n  by Jeroen van Drie \\n\\n  I take walki...   \n",
       "166          fea3  Survey Results\\nCopyright (c) 1994, Joe DeRoue...   \n",
       "377  shrdfarm.txt  A SHREWD FARMER'S STORY\\n\\n   Once upon a time...   \n",
       "392  spectacl.poe  The Spectacles\\n\\n     Many years ago, it was ...   \n",
       "\n",
       "                                            clean_text                      cs  \n",
       "285  earth dreamland bb text file junki rpgnet gm f...     [0.096540190456066]  \n",
       "229  follow stori franci w porrettohors feather bbs...  [0.025534321287683476]  \n",
       "17   seven old samurai upon time far japan band fie...  [0.024260216144445797]  \n",
       "149  wmpress jowka upon time empress live japan you...  [0.022880067408350382]  \n",
       "204  mismatch pair glove young man wish purchas pre...  [0.021406745907884286]  \n",
       "51   adventur bert bernec franci u kaltenbaugh midt...  [0.016282922367626365]  \n",
       "144  dwarf jeroen van drie take walk forest much wa...   [0.01607642646958248]  \n",
       "166  survey resultscopyright c joe derouenal right ...  [0.015222437237950852]  \n",
       "377  shrewd farmer stori upon time live farmer work...  [0.014771046935003493]  \n",
       "392  spectacl mani year ago fashion ridicul idea fi...  [0.014152078878044871]  "
      ]
     },
     "execution_count": 22,
     "metadata": {},
     "output_type": "execute_result"
    }
   ],
   "source": [
    "fc.sort_values(by=['cs'],ascending=False).head(10)"
   ]
  }
 ],
 "metadata": {
  "kernelspec": {
   "display_name": "Python 3",
   "language": "python",
   "name": "python3"
  },
  "language_info": {
   "codemirror_mode": {
    "name": "ipython",
    "version": 3
   },
   "file_extension": ".py",
   "mimetype": "text/x-python",
   "name": "python",
   "nbconvert_exporter": "python",
   "pygments_lexer": "ipython3",
   "version": "3.9.6"
  }
 },
 "nbformat": 4,
 "nbformat_minor": 5
}
